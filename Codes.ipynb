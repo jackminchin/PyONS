{
 "cells": [
  {
   "cell_type": "code",
   "execution_count": 1,
   "metadata": {},
   "outputs": [
    {
     "output_type": "execute_result",
     "data": {
      "text/plain": "'countries'"
     },
     "metadata": {},
     "execution_count": 1
    }
   ],
   "source": [
    "from PyONS.api.codes import Codes\n",
    "\n",
    "Codes().list()[1]"
   ]
  },
  {
   "cell_type": "code",
   "execution_count": 2,
   "metadata": {},
   "outputs": [
    {
     "output_type": "execute_result",
     "data": {
      "text/plain": "{'count': 1,\n 'items': [{'edition': '2017',\n   'label': 'Countries',\n   'links': {'codes': {'href': 'https://api.beta.ons.gov.uk/v1/code-lists/countries/editions/2017/codes'},\n    'editions': {'href': 'https://api.beta.ons.gov.uk/v1/code-lists/countries/editions'},\n    'self': {'href': 'https://api.beta.ons.gov.uk/v1/code-lists/countries/editions/2017',\n     'id': '2017'}}}],\n 'limit': 1,\n 'offset': 0,\n 'total_count': 1}"
     },
     "metadata": {},
     "execution_count": 2
    }
   ],
   "source": [
    "Codes('countries').editions().list()"
   ]
  }
 ],
 "metadata": {
  "language_info": {
   "codemirror_mode": {
    "name": "ipython",
    "version": 3
   },
   "file_extension": ".py",
   "mimetype": "text/x-python",
   "name": "python",
   "nbconvert_exporter": "python",
   "pygments_lexer": "ipython3",
   "version": "3.7.3-final"
  },
  "orig_nbformat": 2,
  "kernelspec": {
   "name": "python37364bitvenvvenv1fd3d5060dc94228b98aed21a854b6ad",
   "display_name": "Python 3.7.3 64-bit ('.venv': venv)"
  }
 },
 "nbformat": 4,
 "nbformat_minor": 2
}